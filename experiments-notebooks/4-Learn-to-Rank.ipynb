{
 "cells": [
  {
   "cell_type": "code",
   "execution_count": 1,
   "metadata": {
    "ExecuteTime": {
     "end_time": "2024-01-16T16:56:09.356981Z",
     "start_time": "2024-01-16T16:56:09.228780Z"
    }
   },
   "outputs": [],
   "source": [
    "import math\n",
    "import numpy as np\n",
    "import matplotlib.pyplot as plt\n",
    "import seaborn as sns\n",
    "\n",
    "from sklearn.model_selection import train_test_split\n",
    "\n",
    "# import some learn-to-rank method\n",
    "from sharp import ShaRP\n",
    "import pandas as pd\n",
    "import lightgbm as lgb\n",
    "\n",
    "# utility functions\n",
    "from sharp.utils import scores_to_rank\n",
    "from mlresearch.utils import set_matplotlib_style\n",
    "\n",
    "set_matplotlib_style(42, **{\"font.family\":\"Times\"})"
   ]
  },
  {
   "cell_type": "markdown",
   "metadata": {},
   "source": [
    "# Define functions"
   ]
  },
  {
   "cell_type": "code",
   "execution_count": 2,
   "metadata": {},
   "outputs": [],
   "source": [
    "# def calculate_relevance(ranks):\n",
    "#     \"\"\"Converts a rank vector to a relevance score\"\"\"\n",
    "#     relevance_scores = 1 - ranks / ranks.shape[0]\n",
    "#     return relevance_scores"
   ]
  },
  {
   "cell_type": "markdown",
   "metadata": {
    "collapsed": false,
    "jupyter": {
     "outputs_hidden": false
    }
   },
   "source": [
    "# data\n",
    "We use the \"movers\" data from\n",
    "Yang, Ke, Joshua R. Loftus, and Julia Stoyanovich. \"Causal intersectionality for fair ranking.\" arXiv preprint arXiv:2006.08688 (2020)."
   ]
  },
  {
   "cell_type": "code",
   "execution_count": 3,
   "metadata": {
    "ExecuteTime": {
     "end_time": "2024-01-16T17:20:15.012536Z",
     "start_time": "2024-01-16T17:20:15.006163Z"
    },
    "collapsed": false,
    "jupyter": {
     "outputs_hidden": false
    }
   },
   "outputs": [],
   "source": [
    "file = 'R10_test_ranklib.txt'\n",
    "df = pd.read_csv(file,delimiter=' ', names=['relevance', 'qid', 'gender', 'race', 'X', 'Y', 'meta'])"
   ]
  },
  {
   "cell_type": "code",
   "execution_count": 4,
   "metadata": {
    "ExecuteTime": {
     "end_time": "2024-01-16T17:20:15.367765Z",
     "start_time": "2024-01-16T17:20:15.362217Z"
    },
    "collapsed": false,
    "jupyter": {
     "outputs_hidden": false
    }
   },
   "outputs": [
    {
     "data": {
      "text/html": [
       "<div>\n",
       "<style scoped>\n",
       "    .dataframe tbody tr th:only-of-type {\n",
       "        vertical-align: middle;\n",
       "    }\n",
       "\n",
       "    .dataframe tbody tr th {\n",
       "        vertical-align: top;\n",
       "    }\n",
       "\n",
       "    .dataframe thead th {\n",
       "        text-align: right;\n",
       "    }\n",
       "</style>\n",
       "<table border=\"1\" class=\"dataframe\">\n",
       "  <thead>\n",
       "    <tr style=\"text-align: right;\">\n",
       "      <th></th>\n",
       "      <th>relevance</th>\n",
       "      <th>qid</th>\n",
       "      <th>gender</th>\n",
       "      <th>race</th>\n",
       "      <th>X</th>\n",
       "      <th>Y</th>\n",
       "      <th>meta</th>\n",
       "    </tr>\n",
       "  </thead>\n",
       "  <tbody>\n",
       "    <tr>\n",
       "      <th>0</th>\n",
       "      <td>0</td>\n",
       "      <td>qid:2</td>\n",
       "      <td>1:0</td>\n",
       "      <td>2:1</td>\n",
       "      <td>3:0.4547080342442664</td>\n",
       "      <td>4:0.1493783886120043</td>\n",
       "      <td>#docid=612;rel=0;g=M;r=B;</td>\n",
       "    </tr>\n",
       "    <tr>\n",
       "      <th>1</th>\n",
       "      <td>0</td>\n",
       "      <td>qid:2</td>\n",
       "      <td>1:0</td>\n",
       "      <td>2:0</td>\n",
       "      <td>3:-0.21525739269349048</td>\n",
       "      <td>4:-0.13378755098479744</td>\n",
       "      <td>#docid=14;rel=0;g=M;r=W;</td>\n",
       "    </tr>\n",
       "    <tr>\n",
       "      <th>2</th>\n",
       "      <td>0</td>\n",
       "      <td>qid:2</td>\n",
       "      <td>1:1</td>\n",
       "      <td>2:0</td>\n",
       "      <td>3:-1.9623749803589363</td>\n",
       "      <td>4:-1.669096830997429</td>\n",
       "      <td>#docid=1976;rel=0;g=F;r=W;</td>\n",
       "    </tr>\n",
       "    <tr>\n",
       "      <th>3</th>\n",
       "      <td>0</td>\n",
       "      <td>qid:2</td>\n",
       "      <td>1:1</td>\n",
       "      <td>2:0</td>\n",
       "      <td>3:-1.9021488120278065</td>\n",
       "      <td>4:-1.6891155915219045</td>\n",
       "      <td>#docid=1338;rel=0;g=F;r=W;</td>\n",
       "    </tr>\n",
       "    <tr>\n",
       "      <th>4</th>\n",
       "      <td>0</td>\n",
       "      <td>qid:2</td>\n",
       "      <td>1:1</td>\n",
       "      <td>2:1</td>\n",
       "      <td>3:-1.1430592245104003</td>\n",
       "      <td>4:-1.1920751624984351</td>\n",
       "      <td>#docid=508;rel=0;g=F;r=B;</td>\n",
       "    </tr>\n",
       "    <tr>\n",
       "      <th>...</th>\n",
       "      <td>...</td>\n",
       "      <td>...</td>\n",
       "      <td>...</td>\n",
       "      <td>...</td>\n",
       "      <td>...</td>\n",
       "      <td>...</td>\n",
       "      <td>...</td>\n",
       "    </tr>\n",
       "    <tr>\n",
       "      <th>1995</th>\n",
       "      <td>0</td>\n",
       "      <td>qid:2</td>\n",
       "      <td>1:0</td>\n",
       "      <td>2:1</td>\n",
       "      <td>3:-0.777299958766823</td>\n",
       "      <td>4:-0.53623404864515</td>\n",
       "      <td>#docid=82;rel=0;g=M;r=B;</td>\n",
       "    </tr>\n",
       "    <tr>\n",
       "      <th>1996</th>\n",
       "      <td>0</td>\n",
       "      <td>qid:2</td>\n",
       "      <td>1:1</td>\n",
       "      <td>2:1</td>\n",
       "      <td>3:-0.7257625091182793</td>\n",
       "      <td>4:-0.6211059452086105</td>\n",
       "      <td>#docid=1349;rel=0;g=F;r=B;</td>\n",
       "    </tr>\n",
       "    <tr>\n",
       "      <th>1997</th>\n",
       "      <td>0</td>\n",
       "      <td>qid:2</td>\n",
       "      <td>1:0</td>\n",
       "      <td>2:1</td>\n",
       "      <td>3:-0.5307201799590591</td>\n",
       "      <td>4:-0.4962429107884686</td>\n",
       "      <td>#docid=728;rel=0;g=M;r=B;</td>\n",
       "    </tr>\n",
       "    <tr>\n",
       "      <th>1998</th>\n",
       "      <td>0</td>\n",
       "      <td>qid:2</td>\n",
       "      <td>1:1</td>\n",
       "      <td>2:0</td>\n",
       "      <td>3:-1.1942232147034475</td>\n",
       "      <td>4:-1.058724419238001</td>\n",
       "      <td>#docid=75;rel=0;g=F;r=W;</td>\n",
       "    </tr>\n",
       "    <tr>\n",
       "      <th>1999</th>\n",
       "      <td>0</td>\n",
       "      <td>qid:2</td>\n",
       "      <td>1:0</td>\n",
       "      <td>2:0</td>\n",
       "      <td>3:-1.1299279555004589</td>\n",
       "      <td>4:-0.9805816586873884</td>\n",
       "      <td>#docid=1897;rel=0;g=M;r=W;</td>\n",
       "    </tr>\n",
       "  </tbody>\n",
       "</table>\n",
       "<p>2000 rows × 7 columns</p>\n",
       "</div>"
      ],
      "text/plain": [
       "      relevance    qid gender race                       X  \\\n",
       "0             0  qid:2    1:0  2:1    3:0.4547080342442664   \n",
       "1             0  qid:2    1:0  2:0  3:-0.21525739269349048   \n",
       "2             0  qid:2    1:1  2:0   3:-1.9623749803589363   \n",
       "3             0  qid:2    1:1  2:0   3:-1.9021488120278065   \n",
       "4             0  qid:2    1:1  2:1   3:-1.1430592245104003   \n",
       "...         ...    ...    ...  ...                     ...   \n",
       "1995          0  qid:2    1:0  2:1    3:-0.777299958766823   \n",
       "1996          0  qid:2    1:1  2:1   3:-0.7257625091182793   \n",
       "1997          0  qid:2    1:0  2:1   3:-0.5307201799590591   \n",
       "1998          0  qid:2    1:1  2:0   3:-1.1942232147034475   \n",
       "1999          0  qid:2    1:0  2:0   3:-1.1299279555004589   \n",
       "\n",
       "                           Y                        meta  \n",
       "0       4:0.1493783886120043   #docid=612;rel=0;g=M;r=B;  \n",
       "1     4:-0.13378755098479744    #docid=14;rel=0;g=M;r=W;  \n",
       "2       4:-1.669096830997429  #docid=1976;rel=0;g=F;r=W;  \n",
       "3      4:-1.6891155915219045  #docid=1338;rel=0;g=F;r=W;  \n",
       "4      4:-1.1920751624984351   #docid=508;rel=0;g=F;r=B;  \n",
       "...                      ...                         ...  \n",
       "1995     4:-0.53623404864515    #docid=82;rel=0;g=M;r=B;  \n",
       "1996   4:-0.6211059452086105  #docid=1349;rel=0;g=F;r=B;  \n",
       "1997   4:-0.4962429107884686   #docid=728;rel=0;g=M;r=B;  \n",
       "1998    4:-1.058724419238001    #docid=75;rel=0;g=F;r=W;  \n",
       "1999   4:-0.9805816586873884  #docid=1897;rel=0;g=M;r=W;  \n",
       "\n",
       "[2000 rows x 7 columns]"
      ]
     },
     "execution_count": 4,
     "metadata": {},
     "output_type": "execute_result"
    }
   ],
   "source": [
    "df"
   ]
  },
  {
   "cell_type": "code",
   "execution_count": 5,
   "metadata": {
    "ExecuteTime": {
     "end_time": "2024-01-16T17:20:15.796018Z",
     "start_time": "2024-01-16T17:20:15.793490Z"
    },
    "collapsed": false,
    "jupyter": {
     "outputs_hidden": false
    }
   },
   "outputs": [],
   "source": [
    "df['qid'] = df['qid'].str.replace('qid:', '')\n",
    "df['gender'] = df['gender'].str.replace('1:', '')\n",
    "df['race'] = df['race'].str.replace('2:', '')\n",
    "df['X'] = df['X'].str.replace('3:', '')\n",
    "df['Y'] = df['Y'].str.replace('4:', '')\n",
    "df = df.astype({'gender': int, 'race': int, 'X': float, 'Y': float})"
   ]
  },
  {
   "cell_type": "code",
   "execution_count": 6,
   "metadata": {
    "ExecuteTime": {
     "end_time": "2024-01-16T17:20:16.328399Z",
     "start_time": "2024-01-16T17:20:16.320608Z"
    },
    "collapsed": false,
    "jupyter": {
     "outputs_hidden": false
    }
   },
   "outputs": [
    {
     "data": {
      "text/html": [
       "<div>\n",
       "<style scoped>\n",
       "    .dataframe tbody tr th:only-of-type {\n",
       "        vertical-align: middle;\n",
       "    }\n",
       "\n",
       "    .dataframe tbody tr th {\n",
       "        vertical-align: top;\n",
       "    }\n",
       "\n",
       "    .dataframe thead th {\n",
       "        text-align: right;\n",
       "    }\n",
       "</style>\n",
       "<table border=\"1\" class=\"dataframe\">\n",
       "  <thead>\n",
       "    <tr style=\"text-align: right;\">\n",
       "      <th></th>\n",
       "      <th>relevance</th>\n",
       "      <th>gender</th>\n",
       "      <th>race</th>\n",
       "      <th>X</th>\n",
       "      <th>Y</th>\n",
       "    </tr>\n",
       "  </thead>\n",
       "  <tbody>\n",
       "    <tr>\n",
       "      <th>count</th>\n",
       "      <td>2000.000000</td>\n",
       "      <td>2000.000000</td>\n",
       "      <td>2000.000000</td>\n",
       "      <td>2000.000000</td>\n",
       "      <td>2000.000000</td>\n",
       "    </tr>\n",
       "    <tr>\n",
       "      <th>mean</th>\n",
       "      <td>62.625000</td>\n",
       "      <td>0.370000</td>\n",
       "      <td>0.370000</td>\n",
       "      <td>-0.383572</td>\n",
       "      <td>-0.387979</td>\n",
       "    </tr>\n",
       "    <tr>\n",
       "      <th>std</th>\n",
       "      <td>130.316828</td>\n",
       "      <td>0.482925</td>\n",
       "      <td>0.482925</td>\n",
       "      <td>0.951984</td>\n",
       "      <td>0.807035</td>\n",
       "    </tr>\n",
       "    <tr>\n",
       "      <th>min</th>\n",
       "      <td>0.000000</td>\n",
       "      <td>0.000000</td>\n",
       "      <td>0.000000</td>\n",
       "      <td>-4.466380</td>\n",
       "      <td>-3.811648</td>\n",
       "    </tr>\n",
       "    <tr>\n",
       "      <th>25%</th>\n",
       "      <td>0.000000</td>\n",
       "      <td>0.000000</td>\n",
       "      <td>0.000000</td>\n",
       "      <td>-0.968149</td>\n",
       "      <td>-0.886706</td>\n",
       "    </tr>\n",
       "    <tr>\n",
       "      <th>50%</th>\n",
       "      <td>0.000000</td>\n",
       "      <td>0.000000</td>\n",
       "      <td>0.000000</td>\n",
       "      <td>-0.302084</td>\n",
       "      <td>-0.318046</td>\n",
       "    </tr>\n",
       "    <tr>\n",
       "      <th>75%</th>\n",
       "      <td>0.250000</td>\n",
       "      <td>1.000000</td>\n",
       "      <td>1.000000</td>\n",
       "      <td>0.260648</td>\n",
       "      <td>0.186854</td>\n",
       "    </tr>\n",
       "    <tr>\n",
       "      <th>max</th>\n",
       "      <td>500.000000</td>\n",
       "      <td>1.000000</td>\n",
       "      <td>1.000000</td>\n",
       "      <td>2.480864</td>\n",
       "      <td>1.772666</td>\n",
       "    </tr>\n",
       "  </tbody>\n",
       "</table>\n",
       "</div>"
      ],
      "text/plain": [
       "         relevance       gender         race            X            Y\n",
       "count  2000.000000  2000.000000  2000.000000  2000.000000  2000.000000\n",
       "mean     62.625000     0.370000     0.370000    -0.383572    -0.387979\n",
       "std     130.316828     0.482925     0.482925     0.951984     0.807035\n",
       "min       0.000000     0.000000     0.000000    -4.466380    -3.811648\n",
       "25%       0.000000     0.000000     0.000000    -0.968149    -0.886706\n",
       "50%       0.000000     0.000000     0.000000    -0.302084    -0.318046\n",
       "75%       0.250000     1.000000     1.000000     0.260648     0.186854\n",
       "max     500.000000     1.000000     1.000000     2.480864     1.772666"
      ]
     },
     "execution_count": 6,
     "metadata": {},
     "output_type": "execute_result"
    }
   ],
   "source": [
    "df.describe()"
   ]
  },
  {
   "cell_type": "code",
   "execution_count": 7,
   "metadata": {
    "ExecuteTime": {
     "end_time": "2024-01-16T17:20:16.780635Z",
     "start_time": "2024-01-16T17:20:16.773834Z"
    },
    "collapsed": false,
    "jupyter": {
     "outputs_hidden": false
    }
   },
   "outputs": [],
   "source": [
    "# train_df = df[:1600].copy()  # first 80%\n",
    "# validation_df = df[-400:].copy()  # remaining 20%\n",
    "\n",
    "train_df, validation_df = train_test_split(df, test_size=0.2, random_state=42)\n",
    "\n",
    "# here I am taking 1st 80000 entries for train but you can use train_test_split\n",
    "qids_train = train_df.groupby(\"qid\")[\"qid\"].count().to_numpy()\n",
    "# Create ranking as the \"relevance\" score\n",
    "X_train = train_df.sort_values('Y', ascending=False)\n",
    "n_rows = X_train.shape[0]\n",
    "X_train['rank'] = range(1, n_rows + 1)\n",
    "# Assign outcome\n",
    "y_train = X_train[\"rank\"]\n",
    "# Drop columns we don't use\n",
    "X_train = X_train.drop([\"Y\", \"relevance\", \"qid\", \"meta\", \"rank\"], axis=1)\n",
    "\n",
    "qids_validation = validation_df.groupby(\"qid\")[\"qid\"].count().to_numpy()\n",
    "# Create ranking as the \"relevance\" score\n",
    "X_validation = validation_df.sort_values('Y', ascending=False)\n",
    "n_rows = X_validation.shape[0]\n",
    "X_validation['rank'] = range(1, n_rows + 1)\n",
    "# Assign outcome\n",
    "y_validation = X_validation[\"rank\"]\n",
    "# Drop columns we don't use\n",
    "X_validation = X_validation.drop([\"Y\", \"relevance\", \"qid\", \"meta\", \"rank\"], axis=1)\n"
   ]
  },
  {
   "cell_type": "code",
   "execution_count": 8,
   "metadata": {
    "ExecuteTime": {
     "end_time": "2024-01-16T17:20:17.246897Z",
     "start_time": "2024-01-16T17:20:17.240233Z"
    },
    "collapsed": false,
    "jupyter": {
     "outputs_hidden": false
    }
   },
   "outputs": [],
   "source": [
    "# # https://github.com/microsoft/LightGBM/issues/2892#issuecomment-596525112\n",
    "# train_df = df[:1600]  # first 80%\n",
    "# validation_df = df[400:]  # remaining 20%\n",
    "# # here I am taking 1st 80000 entries for train but you can use train_test_split\n",
    "# qids_train = train_df.groupby(\"qid\")[\"qid\"].count().to_numpy()\n",
    "# X_train = train_df.drop([\"qid\", \"Y\", \"relevance\", \"meta\"], axis=1)\n",
    "# y_train = train_df[\"relevance\"].copy()\n",
    "# \n",
    "# qids_validation = validation_df.groupby(\"qid\")[\"qid\"].count().to_numpy()\n",
    "# X_validation = validation_df.drop([\"qid\", \"Y\", \"relevance\", \"meta\"], axis=1)\n",
    "# y_validation = validation_df[\"relevance\"].copy()"
   ]
  },
  {
   "cell_type": "code",
   "execution_count": 9,
   "metadata": {},
   "outputs": [],
   "source": [
    "# Joao: added\n",
    "y_train[y_train != 0] = scores_to_rank(y_train[y_train != 0], direction=1)\n",
    "y_validation[y_validation != 0] = scores_to_rank(y_validation[y_validation != 0], direction=1)"
   ]
  },
  {
   "cell_type": "code",
   "execution_count": 10,
   "metadata": {},
   "outputs": [
    {
     "name": "stdout",
     "output_type": "stream",
     "text": [
      "[LightGBM] [Info] Auto-choosing row-wise multi-threading, the overhead of testing was 0.000093 seconds.\n",
      "You can set `force_row_wise=true` to remove the overhead.\n",
      "And if memory is not enough, you can set `force_col_wise=true`.\n",
      "[LightGBM] [Info] Total Bins 259\n",
      "[LightGBM] [Info] Number of data points in the train set: 1600, number of used features: 3\n",
      "[LightGBM] [Warning] No further splits with positive gain, best gain: -inf\n",
      "[LightGBM] [Warning] No further splits with positive gain, best gain: -inf\n",
      "[LightGBM] [Warning] No further splits with positive gain, best gain: -inf\n",
      "[LightGBM] [Warning] No further splits with positive gain, best gain: -inf\n",
      "[LightGBM] [Warning] No further splits with positive gain, best gain: -inf\n",
      "[LightGBM] [Warning] No further splits with positive gain, best gain: -inf\n",
      "[LightGBM] [Warning] No further splits with positive gain, best gain: -inf\n",
      "[LightGBM] [Warning] No further splits with positive gain, best gain: -inf\n",
      "[LightGBM] [Warning] No further splits with positive gain, best gain: -inf\n",
      "[LightGBM] [Warning] No further splits with positive gain, best gain: -inf\n",
      "[LightGBM] [Warning] No further splits with positive gain, best gain: -inf\n",
      "[LightGBM] [Warning] No further splits with positive gain, best gain: -inf\n",
      "[LightGBM] [Warning] No further splits with positive gain, best gain: -inf\n",
      "[LightGBM] [Warning] No further splits with positive gain, best gain: -inf\n",
      "[LightGBM] [Warning] No further splits with positive gain, best gain: -inf\n",
      "[LightGBM] [Warning] No further splits with positive gain, best gain: -inf\n",
      "[LightGBM] [Warning] No further splits with positive gain, best gain: -inf\n",
      "[LightGBM] [Warning] No further splits with positive gain, best gain: -inf\n",
      "[LightGBM] [Warning] No further splits with positive gain, best gain: -inf\n",
      "[LightGBM] [Warning] No further splits with positive gain, best gain: -inf\n",
      "[LightGBM] [Warning] No further splits with positive gain, best gain: -inf\n",
      "[LightGBM] [Warning] No further splits with positive gain, best gain: -inf\n",
      "[LightGBM] [Warning] No further splits with positive gain, best gain: -inf\n",
      "[LightGBM] [Warning] No further splits with positive gain, best gain: -inf\n",
      "[LightGBM] [Warning] No further splits with positive gain, best gain: -inf\n",
      "[LightGBM] [Warning] No further splits with positive gain, best gain: -inf\n",
      "[LightGBM] [Warning] No further splits with positive gain, best gain: -inf\n",
      "[LightGBM] [Warning] No further splits with positive gain, best gain: -inf\n",
      "[LightGBM] [Warning] No further splits with positive gain, best gain: -inf\n",
      "[LightGBM] [Warning] No further splits with positive gain, best gain: -inf\n",
      "[LightGBM] [Warning] No further splits with positive gain, best gain: -inf\n",
      "[LightGBM] [Warning] No further splits with positive gain, best gain: -inf\n",
      "[LightGBM] [Warning] No further splits with positive gain, best gain: -inf\n",
      "[LightGBM] [Warning] No further splits with positive gain, best gain: -inf\n",
      "[LightGBM] [Warning] No further splits with positive gain, best gain: -inf\n",
      "[LightGBM] [Warning] No further splits with positive gain, best gain: -inf\n",
      "[LightGBM] [Warning] No further splits with positive gain, best gain: -inf\n",
      "[LightGBM] [Warning] No further splits with positive gain, best gain: -inf\n",
      "[LightGBM] [Warning] No further splits with positive gain, best gain: -inf\n",
      "[LightGBM] [Warning] No further splits with positive gain, best gain: -inf\n",
      "[LightGBM] [Warning] No further splits with positive gain, best gain: -inf\n",
      "[LightGBM] [Warning] No further splits with positive gain, best gain: -inf\n",
      "[LightGBM] [Warning] No further splits with positive gain, best gain: -inf\n",
      "[LightGBM] [Warning] No further splits with positive gain, best gain: -inf\n",
      "[LightGBM] [Warning] No further splits with positive gain, best gain: -inf\n",
      "[LightGBM] [Warning] No further splits with positive gain, best gain: -inf\n",
      "[LightGBM] [Warning] No further splits with positive gain, best gain: -inf\n",
      "[LightGBM] [Warning] No further splits with positive gain, best gain: -inf\n",
      "[LightGBM] [Warning] No further splits with positive gain, best gain: -inf\n",
      "[LightGBM] [Warning] No further splits with positive gain, best gain: -inf\n",
      "[LightGBM] [Warning] No further splits with positive gain, best gain: -inf\n",
      "[LightGBM] [Warning] No further splits with positive gain, best gain: -inf\n",
      "[LightGBM] [Warning] No further splits with positive gain, best gain: -inf\n",
      "[LightGBM] [Warning] No further splits with positive gain, best gain: -inf\n",
      "[LightGBM] [Warning] No further splits with positive gain, best gain: -inf\n",
      "[LightGBM] [Warning] No further splits with positive gain, best gain: -inf\n",
      "[LightGBM] [Warning] No further splits with positive gain, best gain: -inf\n",
      "[LightGBM] [Warning] No further splits with positive gain, best gain: -inf\n"
     ]
    },
    {
     "data": {
      "text/html": [
       "<style>#sk-container-id-1 {color: black;}#sk-container-id-1 pre{padding: 0;}#sk-container-id-1 div.sk-toggleable {background-color: white;}#sk-container-id-1 label.sk-toggleable__label {cursor: pointer;display: block;width: 100%;margin-bottom: 0;padding: 0.3em;box-sizing: border-box;text-align: center;}#sk-container-id-1 label.sk-toggleable__label-arrow:before {content: \"▸\";float: left;margin-right: 0.25em;color: #696969;}#sk-container-id-1 label.sk-toggleable__label-arrow:hover:before {color: black;}#sk-container-id-1 div.sk-estimator:hover label.sk-toggleable__label-arrow:before {color: black;}#sk-container-id-1 div.sk-toggleable__content {max-height: 0;max-width: 0;overflow: hidden;text-align: left;background-color: #f0f8ff;}#sk-container-id-1 div.sk-toggleable__content pre {margin: 0.2em;color: black;border-radius: 0.25em;background-color: #f0f8ff;}#sk-container-id-1 input.sk-toggleable__control:checked~div.sk-toggleable__content {max-height: 200px;max-width: 100%;overflow: auto;}#sk-container-id-1 input.sk-toggleable__control:checked~label.sk-toggleable__label-arrow:before {content: \"▾\";}#sk-container-id-1 div.sk-estimator input.sk-toggleable__control:checked~label.sk-toggleable__label {background-color: #d4ebff;}#sk-container-id-1 div.sk-label input.sk-toggleable__control:checked~label.sk-toggleable__label {background-color: #d4ebff;}#sk-container-id-1 input.sk-hidden--visually {border: 0;clip: rect(1px 1px 1px 1px);clip: rect(1px, 1px, 1px, 1px);height: 1px;margin: -1px;overflow: hidden;padding: 0;position: absolute;width: 1px;}#sk-container-id-1 div.sk-estimator {font-family: monospace;background-color: #f0f8ff;border: 1px dotted black;border-radius: 0.25em;box-sizing: border-box;margin-bottom: 0.5em;}#sk-container-id-1 div.sk-estimator:hover {background-color: #d4ebff;}#sk-container-id-1 div.sk-parallel-item::after {content: \"\";width: 100%;border-bottom: 1px solid gray;flex-grow: 1;}#sk-container-id-1 div.sk-label:hover label.sk-toggleable__label {background-color: #d4ebff;}#sk-container-id-1 div.sk-serial::before {content: \"\";position: absolute;border-left: 1px solid gray;box-sizing: border-box;top: 0;bottom: 0;left: 50%;z-index: 0;}#sk-container-id-1 div.sk-serial {display: flex;flex-direction: column;align-items: center;background-color: white;padding-right: 0.2em;padding-left: 0.2em;position: relative;}#sk-container-id-1 div.sk-item {position: relative;z-index: 1;}#sk-container-id-1 div.sk-parallel {display: flex;align-items: stretch;justify-content: center;background-color: white;position: relative;}#sk-container-id-1 div.sk-item::before, #sk-container-id-1 div.sk-parallel-item::before {content: \"\";position: absolute;border-left: 1px solid gray;box-sizing: border-box;top: 0;bottom: 0;left: 50%;z-index: -1;}#sk-container-id-1 div.sk-parallel-item {display: flex;flex-direction: column;z-index: 1;position: relative;background-color: white;}#sk-container-id-1 div.sk-parallel-item:first-child::after {align-self: flex-end;width: 50%;}#sk-container-id-1 div.sk-parallel-item:last-child::after {align-self: flex-start;width: 50%;}#sk-container-id-1 div.sk-parallel-item:only-child::after {width: 0;}#sk-container-id-1 div.sk-dashed-wrapped {border: 1px dashed gray;margin: 0 0.4em 0.5em 0.4em;box-sizing: border-box;padding-bottom: 0.4em;background-color: white;}#sk-container-id-1 div.sk-label label {font-family: monospace;font-weight: bold;display: inline-block;line-height: 1.2em;}#sk-container-id-1 div.sk-label-container {text-align: center;}#sk-container-id-1 div.sk-container {/* jupyter's `normalize.less` sets `[hidden] { display: none; }` but bootstrap.min.css set `[hidden] { display: none !important; }` so we also need the `!important` here to be able to override the default hidden behavior on the sphinx rendered scikit-learn.org. See: https://github.com/scikit-learn/scikit-learn/issues/21755 */display: inline-block !important;position: relative;}#sk-container-id-1 div.sk-text-repr-fallback {display: none;}</style><div id=\"sk-container-id-1\" class=\"sk-top-container\"><div class=\"sk-text-repr-fallback\"><pre>LGBMRanker(label_gain=[0, 1, 2, 3, 4, 5, 6, 7, 8, 9, 10, 11, 12, 13, 14, 15, 16,\n",
       "                       17, 18, 19, 20, 21, 22, 23, 24, 25, 26, 27, 28, 29, ...],\n",
       "           objective=&#x27;lambdarank&#x27;)</pre><b>In a Jupyter environment, please rerun this cell to show the HTML representation or trust the notebook. <br />On GitHub, the HTML representation is unable to render, please try loading this page with nbviewer.org.</b></div><div class=\"sk-container\" hidden><div class=\"sk-item\"><div class=\"sk-estimator sk-toggleable\"><input class=\"sk-toggleable__control sk-hidden--visually\" id=\"sk-estimator-id-1\" type=\"checkbox\" checked><label for=\"sk-estimator-id-1\" class=\"sk-toggleable__label sk-toggleable__label-arrow\">LGBMRanker</label><div class=\"sk-toggleable__content\"><pre>LGBMRanker(label_gain=[0, 1, 2, 3, 4, 5, 6, 7, 8, 9, 10, 11, 12, 13, 14, 15, 16,\n",
       "                       17, 18, 19, 20, 21, 22, 23, 24, 25, 26, 27, 28, 29, ...],\n",
       "           objective=&#x27;lambdarank&#x27;)</pre></div></div></div></div></div>"
      ],
      "text/plain": [
       "LGBMRanker(label_gain=[0, 1, 2, 3, 4, 5, 6, 7, 8, 9, 10, 11, 12, 13, 14, 15, 16,\n",
       "                       17, 18, 19, 20, 21, 22, 23, 24, 25, 26, 27, 28, 29, ...],\n",
       "           objective='lambdarank')"
      ]
     },
     "execution_count": 10,
     "metadata": {},
     "output_type": "execute_result"
    }
   ],
   "source": [
    "model = lgb.LGBMRanker(\n",
    "    objective=\"lambdarank\",\n",
    "    # metric=\"ndcg\",\n",
    "    # min_data_in_leaf=1,\n",
    "    label_gain=list(range(1601)),# np.unique(y_train.values)\n",
    "    #verbose=-1\n",
    ")\n",
    "model.fit(\n",
    "    X=X_train,\n",
    "    y=y_train,\n",
    "    group=qids_train,\n",
    "    eval_set=[(X_validation, y_validation)],\n",
    "    eval_group=[qids_validation],\n",
    "    eval_at=10,\n",
    ")"
   ]
  },
  {
   "cell_type": "code",
   "execution_count": 11,
   "metadata": {},
   "outputs": [
    {
     "data": {
      "text/plain": [
       "array([-9.68686971, -9.68686971, -9.59446698, ...,  4.70428012,\n",
       "        4.70428012,  4.90647907])"
      ]
     },
     "execution_count": 11,
     "metadata": {},
     "output_type": "execute_result"
    }
   ],
   "source": [
    "relevance = model.predict(X_train)\n",
    "relevance"
   ]
  },
  {
   "cell_type": "code",
   "execution_count": 12,
   "metadata": {},
   "outputs": [
    {
     "data": {
      "text/plain": [
       "(array([   1,    2,   29, ..., 1598, 1594, 1600]),\n",
       " array([   1,    2,    3, ..., 1598, 1599, 1600]))"
      ]
     },
     "execution_count": 12,
     "metadata": {},
     "output_type": "execute_result"
    }
   ],
   "source": [
    "scores_to_rank(relevance, 1), y_train.values"
   ]
  },
  {
   "cell_type": "markdown",
   "metadata": {},
   "source": [
    "# Model interpretability"
   ]
  },
  {
   "cell_type": "code",
   "execution_count": 13,
   "metadata": {},
   "outputs": [
    {
     "data": {
      "text/html": [
       "<div>\n",
       "<style scoped>\n",
       "    .dataframe tbody tr th:only-of-type {\n",
       "        vertical-align: middle;\n",
       "    }\n",
       "\n",
       "    .dataframe tbody tr th {\n",
       "        vertical-align: top;\n",
       "    }\n",
       "\n",
       "    .dataframe thead th {\n",
       "        text-align: right;\n",
       "    }\n",
       "</style>\n",
       "<table border=\"1\" class=\"dataframe\">\n",
       "  <thead>\n",
       "    <tr style=\"text-align: right;\">\n",
       "      <th></th>\n",
       "      <th>gender</th>\n",
       "      <th>race</th>\n",
       "      <th>X</th>\n",
       "    </tr>\n",
       "  </thead>\n",
       "  <tbody>\n",
       "    <tr>\n",
       "      <th>55</th>\n",
       "      <td>0</td>\n",
       "      <td>0</td>\n",
       "      <td>2.034534</td>\n",
       "    </tr>\n",
       "    <tr>\n",
       "      <th>1993</th>\n",
       "      <td>0</td>\n",
       "      <td>0</td>\n",
       "      <td>1.844400</td>\n",
       "    </tr>\n",
       "    <tr>\n",
       "      <th>64</th>\n",
       "      <td>1</td>\n",
       "      <td>0</td>\n",
       "      <td>2.480864</td>\n",
       "    </tr>\n",
       "    <tr>\n",
       "      <th>893</th>\n",
       "      <td>0</td>\n",
       "      <td>0</td>\n",
       "      <td>2.224490</td>\n",
       "    </tr>\n",
       "    <tr>\n",
       "      <th>958</th>\n",
       "      <td>0</td>\n",
       "      <td>0</td>\n",
       "      <td>1.913491</td>\n",
       "    </tr>\n",
       "    <tr>\n",
       "      <th>...</th>\n",
       "      <td>...</td>\n",
       "      <td>...</td>\n",
       "      <td>...</td>\n",
       "    </tr>\n",
       "    <tr>\n",
       "      <th>1317</th>\n",
       "      <td>1</td>\n",
       "      <td>0</td>\n",
       "      <td>-3.278596</td>\n",
       "    </tr>\n",
       "    <tr>\n",
       "      <th>682</th>\n",
       "      <td>1</td>\n",
       "      <td>0</td>\n",
       "      <td>-3.786229</td>\n",
       "    </tr>\n",
       "    <tr>\n",
       "      <th>1507</th>\n",
       "      <td>1</td>\n",
       "      <td>0</td>\n",
       "      <td>-3.427142</td>\n",
       "    </tr>\n",
       "    <tr>\n",
       "      <th>312</th>\n",
       "      <td>1</td>\n",
       "      <td>0</td>\n",
       "      <td>-4.031312</td>\n",
       "    </tr>\n",
       "    <tr>\n",
       "      <th>1015</th>\n",
       "      <td>1</td>\n",
       "      <td>1</td>\n",
       "      <td>-4.466380</td>\n",
       "    </tr>\n",
       "  </tbody>\n",
       "</table>\n",
       "<p>1600 rows × 3 columns</p>\n",
       "</div>"
      ],
      "text/plain": [
       "      gender  race         X\n",
       "55         0     0  2.034534\n",
       "1993       0     0  1.844400\n",
       "64         1     0  2.480864\n",
       "893        0     0  2.224490\n",
       "958        0     0  1.913491\n",
       "...      ...   ...       ...\n",
       "1317       1     0 -3.278596\n",
       "682        1     0 -3.786229\n",
       "1507       1     0 -3.427142\n",
       "312        1     0 -4.031312\n",
       "1015       1     1 -4.466380\n",
       "\n",
       "[1600 rows x 3 columns]"
      ]
     },
     "execution_count": 13,
     "metadata": {},
     "output_type": "execute_result"
    }
   ],
   "source": [
    "X_train"
   ]
  },
  {
   "cell_type": "code",
   "execution_count": 26,
   "metadata": {},
   "outputs": [
    {
     "data": {
      "application/vnd.jupyter.widget-view+json": {
       "model_id": "9ee41a97d37646faba29c348f92f464f",
       "version_major": 2,
       "version_minor": 0
      },
      "text/plain": [
       "  0%|          | 0/400 [00:00<?, ?it/s]"
      ]
     },
     "metadata": {},
     "output_type": "display_data"
    }
   ],
   "source": [
    "xai = ShaRP(\n",
    "    qoi=\"ranking\",\n",
    "    target_function=model.predict,\n",
    "    measure=\"shapley\",\n",
    "    sample_size=3, # sample_size=None,\n",
    "    replace=False,\n",
    "    random_state=42,\n",
    "    verbose=1,\n",
    "    n_jobs=-1\n",
    ")\n",
    "xai.fit(X_train)\n",
    "\n",
    "shapley_values = pd.DataFrame(\n",
    "    xai.all(X_validation), \n",
    "    columns=X_validation.columns, \n",
    "    index=X_validation.index\n",
    ")\n",
    "shapley_values[\"score\"] = model.predict(X_validation)\n",
    "shapley_values[\"ranking\"] = scores_to_rank(shapley_values[\"score\"])\n",
    "shapley_values.to_csv(f\"r10_test_ranklib_{xai.qoi_.__class__.__name__.lower()}_shapley_values.csv\")"
   ]
  },
  {
   "cell_type": "code",
   "execution_count": 36,
   "metadata": {},
   "outputs": [
    {
     "data": {
      "text/html": [
       "<div>\n",
       "<style scoped>\n",
       "    .dataframe tbody tr th:only-of-type {\n",
       "        vertical-align: middle;\n",
       "    }\n",
       "\n",
       "    .dataframe tbody tr th {\n",
       "        vertical-align: top;\n",
       "    }\n",
       "\n",
       "    .dataframe thead th {\n",
       "        text-align: right;\n",
       "    }\n",
       "</style>\n",
       "<table border=\"1\" class=\"dataframe\">\n",
       "  <thead>\n",
       "    <tr style=\"text-align: right;\">\n",
       "      <th></th>\n",
       "      <th>Rank Bucket</th>\n",
       "      <th>Feature</th>\n",
       "      <th>Contribution</th>\n",
       "    </tr>\n",
       "  </thead>\n",
       "  <tbody>\n",
       "    <tr>\n",
       "      <th>313</th>\n",
       "      <td>$&lt;$10\\%</td>\n",
       "      <td>gender</td>\n",
       "      <td>148.211250</td>\n",
       "    </tr>\n",
       "    <tr>\n",
       "      <th>333</th>\n",
       "      <td>$&lt;$10\\%</td>\n",
       "      <td>gender</td>\n",
       "      <td>148.254583</td>\n",
       "    </tr>\n",
       "    <tr>\n",
       "      <th>345</th>\n",
       "      <td>$&lt;$10\\%</td>\n",
       "      <td>gender</td>\n",
       "      <td>119.339583</td>\n",
       "    </tr>\n",
       "    <tr>\n",
       "      <th>351</th>\n",
       "      <td>$&lt;$10\\%</td>\n",
       "      <td>gender</td>\n",
       "      <td>147.435417</td>\n",
       "    </tr>\n",
       "    <tr>\n",
       "      <th>360</th>\n",
       "      <td>$&lt;$10\\%</td>\n",
       "      <td>gender</td>\n",
       "      <td>117.257083</td>\n",
       "    </tr>\n",
       "    <tr>\n",
       "      <th>...</th>\n",
       "      <td>...</td>\n",
       "      <td>...</td>\n",
       "      <td>...</td>\n",
       "    </tr>\n",
       "    <tr>\n",
       "      <th>536</th>\n",
       "      <td>90-\\n100\\%</td>\n",
       "      <td>race</td>\n",
       "      <td>-153.415417</td>\n",
       "    </tr>\n",
       "    <tr>\n",
       "      <th>550</th>\n",
       "      <td>90-\\n100\\%</td>\n",
       "      <td>race</td>\n",
       "      <td>-153.415417</td>\n",
       "    </tr>\n",
       "    <tr>\n",
       "      <th>552</th>\n",
       "      <td>90-\\n100\\%</td>\n",
       "      <td>race</td>\n",
       "      <td>-147.728750</td>\n",
       "    </tr>\n",
       "    <tr>\n",
       "      <th>558</th>\n",
       "      <td>90-\\n100\\%</td>\n",
       "      <td>race</td>\n",
       "      <td>-147.728750</td>\n",
       "    </tr>\n",
       "    <tr>\n",
       "      <th>567</th>\n",
       "      <td>90-\\n100\\%</td>\n",
       "      <td>race</td>\n",
       "      <td>-152.703750</td>\n",
       "    </tr>\n",
       "  </tbody>\n",
       "</table>\n",
       "<p>1200 rows × 3 columns</p>\n",
       "</div>"
      ],
      "text/plain": [
       "    Rank Bucket Feature  Contribution\n",
       "313     $<$10\\%  gender    148.211250\n",
       "333     $<$10\\%  gender    148.254583\n",
       "345     $<$10\\%  gender    119.339583\n",
       "351     $<$10\\%  gender    147.435417\n",
       "360     $<$10\\%  gender    117.257083\n",
       "..          ...     ...           ...\n",
       "536  90-\\n100\\%    race   -153.415417\n",
       "550  90-\\n100\\%    race   -153.415417\n",
       "552  90-\\n100\\%    race   -147.728750\n",
       "558  90-\\n100\\%    race   -147.728750\n",
       "567  90-\\n100\\%    race   -152.703750\n",
       "\n",
       "[1200 rows x 3 columns]"
      ]
     },
     "execution_count": 36,
     "metadata": {},
     "output_type": "execute_result"
    }
   ],
   "source": [
    "buckets = 10\n",
    "shapley_values = pd.read_csv(\"r10_test_ranklib_rankingqoi_shapley_values.csv\", index_col=\"Unnamed: 0\").rename(columns={\"X\":\"qualification\"})\n",
    "\n",
    "\n",
    "shapley_values['rank_bucket'] = [\n",
    "    (\n",
    "        str(math.floor((rank - 1) / (shapley_values.shape[0] / buckets)) * 10) \n",
    "        + \"-\\n\" \n",
    "        + str(math.floor(((rank - 1) / (shapley_values.shape[0] / buckets)) + 1) * 10) \n",
    "        + \"%\" \n",
    "    )\n",
    "    if math.floor((rank - 1) / (shapley_values.shape[0] / buckets)) != 0 \n",
    "    else \"<10%\"\n",
    "    for rank in shapley_values['ranking']\n",
    "]\n",
    "\n",
    "shapley_values[\"Rank Bucket\"] = shapley_values[\"rank_bucket\"].str.replace(\"%\", r\"\\%\").str.replace(\"<\", \"$<$\")\n",
    "shapley_values = (\n",
    "    shapley_values\n",
    "    .drop(columns=[\"rank_bucket\", \"ranking\", \"score\"])\n",
    "    .melt(id_vars=[\"Rank Bucket\"])\n",
    "    .rename(columns={\"variable\": \"Feature\", \"value\": \"Contribution\"})\n",
    ")\n",
    "\n",
    "shapley_values.sort_values([\"Rank Bucket\", \"Feature\"], inplace=True)\n",
    "shapley_values"
   ]
  },
  {
   "cell_type": "code",
   "execution_count": 37,
   "metadata": {},
   "outputs": [
    {
     "data": {
      "image/png": "[encoded data removed]",
      "text/plain": [
       "<Figure size 1800x600 with 1 Axes>"
      ]
     },
     "metadata": {},
     "output_type": "display_data"
    }
   ],
   "source": [
    "fig, axs = plt.subplots(nrows=1, ncols=1, figsize=(18, 6), sharey='row')\n",
    "graph = sns.boxplot(\n",
    "    x=shapley_values['Rank Bucket'], \n",
    "    y=shapley_values['Contribution'], \n",
    "    hue=shapley_values['Feature'], \n",
    "    palette=\"Set2\"\n",
    ")\n",
    "graph.set_ylabel(\"contribution to rank\")\n",
    "graph.set_xlabel(\"rank stratum\")\n",
    "sns.move_legend(\n",
    "    graph, \"lower center\", bbox_to_anchor=(.5, 1.05), ncol=4, title=None, frameon=False,\n",
    ")\n",
    "\n",
    "plt.savefig(\n",
    "    f\"r10_contrs_rank.pdf\",\n",
    "    format=\"pdf\",\n",
    "    bbox_inches=\"tight\",\n",
    ")\n",
    "plt.show()"
   ]
  }
 ],
 "metadata": {
  "kernelspec": {
   "display_name": "Python 3 (ipykernel)",
   "language": "python",
   "name": "python3"
  },
  "language_info": {
   "codemirror_mode": {
    "name": "ipython",
    "version": 3
   },
   "file_extension": ".py",
   "mimetype": "text/x-python",
   "name": "python",
   "nbconvert_exporter": "python",
   "pygments_lexer": "ipython3",
   "version": "3.12.0"
  }
 },
 "nbformat": 4,
 "nbformat_minor": 4
}
