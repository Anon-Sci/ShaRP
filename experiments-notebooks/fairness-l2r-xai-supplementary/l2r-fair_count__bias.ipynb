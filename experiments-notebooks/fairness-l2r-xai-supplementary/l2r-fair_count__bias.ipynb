{
 "cells": [
  {
   "cell_type": "code",
   "execution_count": 1,
   "metadata": {
    "ExecuteTime": {
     "end_time": "2024-01-16T16:56:09.356981Z",
     "start_time": "2024-01-16T16:56:09.228780Z"
    }
   },
   "outputs": [],
   "source": [
    "import math\n",
    "import numpy as np\n",
    "import matplotlib.pyplot as plt\n",
    "import seaborn as sns\n",
    "\n",
    "from sklearn.model_selection import train_test_split\n",
    "\n",
    "# import some learn-to-rank method\n",
    "from sharp import ShaRP\n",
    "import pandas as pd\n",
    "import lightgbm as lgb\n",
    "\n",
    "# utility functions\n",
    "from sharp.utils import scores_to_rank\n",
    "from mlresearch.utils import set_matplotlib_style\n",
    "\n",
    "set_matplotlib_style(42, **{\"font.family\":\"Times\"})"
   ]
  },
  {
   "cell_type": "markdown",
   "metadata": {
    "collapsed": false,
    "jupyter": {
     "outputs_hidden": false
    }
   },
   "source": [
    "# data\n",
    "We use the \"movers\" data from\n",
    "Yang, Ke, Joshua R. Loftus, and Julia Stoyanovich. \"Causal intersectionality for fair ranking.\" arXiv preprint arXiv:2006.08688 (2020)."
   ]
  },
  {
   "cell_type": "code",
   "execution_count": 2,
   "metadata": {},
   "outputs": [],
   "source": [
    "file = 'https://raw.githubusercontent.com/Anon-Sci/CIFRank/master/out/ranklib_data/mv/m2/Full/fair_count__bias/R10_train_ranklib.txt'\n",
    "df_train = pd.read_csv(file,delimiter=' ', names=['relevance', 'qid', 'gender', 'race', 'X', 'Y', 'meta'])"
   ]
  },
  {
   "cell_type": "code",
   "execution_count": 3,
   "metadata": {
    "ExecuteTime": {
     "end_time": "2024-01-16T17:20:15.012536Z",
     "start_time": "2024-01-16T17:20:15.006163Z"
    },
    "collapsed": false,
    "jupyter": {
     "outputs_hidden": false
    }
   },
   "outputs": [],
   "source": [
    "file = 'https://raw.githubusercontent.com/Anon-Sci/CIFRank/master/out/ranklib_data/mv/m2/Full/fair_count__bias/R10_test_ranklib.txt'\n",
    "df_test = pd.read_csv(file,delimiter=' ', names=['relevance', 'qid', 'gender', 'race', 'X', 'Y', 'meta'])"
   ]
  },
  {
   "cell_type": "code",
   "execution_count": 4,
   "metadata": {
    "ExecuteTime": {
     "end_time": "2024-01-16T17:20:15.367765Z",
     "start_time": "2024-01-16T17:20:15.362217Z"
    },
    "collapsed": false,
    "jupyter": {
     "outputs_hidden": false
    }
   },
   "outputs": [
    {
     "data": {
      "text/html": [
       "<div>\n",
       "<style scoped>\n",
       "    .dataframe tbody tr th:only-of-type {\n",
       "        vertical-align: middle;\n",
       "    }\n",
       "\n",
       "    .dataframe tbody tr th {\n",
       "        vertical-align: top;\n",
       "    }\n",
       "\n",
       "    .dataframe thead th {\n",
       "        text-align: right;\n",
       "    }\n",
       "</style>\n",
       "<table border=\"1\" class=\"dataframe\">\n",
       "  <thead>\n",
       "    <tr style=\"text-align: right;\">\n",
       "      <th></th>\n",
       "      <th>relevance</th>\n",
       "      <th>qid</th>\n",
       "      <th>gender</th>\n",
       "      <th>race</th>\n",
       "      <th>X</th>\n",
       "      <th>Y</th>\n",
       "      <th>meta</th>\n",
       "    </tr>\n",
       "  </thead>\n",
       "  <tbody>\n",
       "    <tr>\n",
       "      <th>0</th>\n",
       "      <td>9</td>\n",
       "      <td>qid:2</td>\n",
       "      <td>1:0</td>\n",
       "      <td>2:1</td>\n",
       "      <td>3:0.1899395630036482</td>\n",
       "      <td>4:0.1937026171868585</td>\n",
       "      <td>#docid=1504;rel=9;g=M;r=B;</td>\n",
       "    </tr>\n",
       "    <tr>\n",
       "      <th>1</th>\n",
       "      <td>388</td>\n",
       "      <td>qid:2</td>\n",
       "      <td>1:1</td>\n",
       "      <td>2:0</td>\n",
       "      <td>3:0.5459109956735013</td>\n",
       "      <td>4:0.7920737675619858</td>\n",
       "      <td>#docid=1371;rel=388;g=F;r=W;</td>\n",
       "    </tr>\n",
       "    <tr>\n",
       "      <th>2</th>\n",
       "      <td>0</td>\n",
       "      <td>qid:2</td>\n",
       "      <td>1:1</td>\n",
       "      <td>2:0</td>\n",
       "      <td>3:-1.7232193585865132</td>\n",
       "      <td>4:-1.5228091763218323</td>\n",
       "      <td>#docid=1774;rel=0;g=F;r=W;</td>\n",
       "    </tr>\n",
       "    <tr>\n",
       "      <th>3</th>\n",
       "      <td>249</td>\n",
       "      <td>qid:2</td>\n",
       "      <td>1:0</td>\n",
       "      <td>2:0</td>\n",
       "      <td>3:0.5379536381300322</td>\n",
       "      <td>4:0.4827263530161303</td>\n",
       "      <td>#docid=1799;rel=249;g=M;r=W;</td>\n",
       "    </tr>\n",
       "    <tr>\n",
       "      <th>4</th>\n",
       "      <td>0</td>\n",
       "      <td>qid:2</td>\n",
       "      <td>1:0</td>\n",
       "      <td>2:1</td>\n",
       "      <td>3:-1.8589748979947567</td>\n",
       "      <td>4:-1.5740410843902115</td>\n",
       "      <td>#docid=1757;rel=0;g=M;r=B;</td>\n",
       "    </tr>\n",
       "    <tr>\n",
       "      <th>...</th>\n",
       "      <td>...</td>\n",
       "      <td>...</td>\n",
       "      <td>...</td>\n",
       "      <td>...</td>\n",
       "      <td>...</td>\n",
       "      <td>...</td>\n",
       "      <td>...</td>\n",
       "    </tr>\n",
       "    <tr>\n",
       "      <th>1995</th>\n",
       "      <td>0</td>\n",
       "      <td>qid:2</td>\n",
       "      <td>1:1</td>\n",
       "      <td>2:1</td>\n",
       "      <td>3:-1.9272819583567893</td>\n",
       "      <td>4:-1.816365924219209</td>\n",
       "      <td>#docid=1075;rel=0;g=F;r=B;</td>\n",
       "    </tr>\n",
       "    <tr>\n",
       "      <th>1996</th>\n",
       "      <td>0</td>\n",
       "      <td>qid:2</td>\n",
       "      <td>1:0</td>\n",
       "      <td>2:0</td>\n",
       "      <td>3:-0.7990427365806434</td>\n",
       "      <td>4:-0.6379372794003488</td>\n",
       "      <td>#docid=1753;rel=0;g=M;r=W;</td>\n",
       "    </tr>\n",
       "    <tr>\n",
       "      <th>1997</th>\n",
       "      <td>0</td>\n",
       "      <td>qid:2</td>\n",
       "      <td>1:1</td>\n",
       "      <td>2:0</td>\n",
       "      <td>3:-1.3948471129681417</td>\n",
       "      <td>4:-1.5304419174187094</td>\n",
       "      <td>#docid=746;rel=0;g=F;r=W;</td>\n",
       "    </tr>\n",
       "    <tr>\n",
       "      <th>1998</th>\n",
       "      <td>0</td>\n",
       "      <td>qid:2</td>\n",
       "      <td>1:0</td>\n",
       "      <td>2:0</td>\n",
       "      <td>3:0.2042259659259381</td>\n",
       "      <td>4:0.028230813698210594</td>\n",
       "      <td>#docid=1619;rel=0;g=M;r=W;</td>\n",
       "    </tr>\n",
       "    <tr>\n",
       "      <th>1999</th>\n",
       "      <td>205</td>\n",
       "      <td>qid:2</td>\n",
       "      <td>1:0</td>\n",
       "      <td>2:0</td>\n",
       "      <td>3:0.6310534441444163</td>\n",
       "      <td>4:0.4031035876746709</td>\n",
       "      <td>#docid=1337;rel=205;g=M;r=W;</td>\n",
       "    </tr>\n",
       "  </tbody>\n",
       "</table>\n",
       "<p>2000 rows × 7 columns</p>\n",
       "</div>"
      ],
      "text/plain": [
       "      relevance    qid gender race                      X  \\\n",
       "0             9  qid:2    1:0  2:1   3:0.1899395630036482   \n",
       "1           388  qid:2    1:1  2:0   3:0.5459109956735013   \n",
       "2             0  qid:2    1:1  2:0  3:-1.7232193585865132   \n",
       "3           249  qid:2    1:0  2:0   3:0.5379536381300322   \n",
       "4             0  qid:2    1:0  2:1  3:-1.8589748979947567   \n",
       "...         ...    ...    ...  ...                    ...   \n",
       "1995          0  qid:2    1:1  2:1  3:-1.9272819583567893   \n",
       "1996          0  qid:2    1:0  2:0  3:-0.7990427365806434   \n",
       "1997          0  qid:2    1:1  2:0  3:-1.3948471129681417   \n",
       "1998          0  qid:2    1:0  2:0   3:0.2042259659259381   \n",
       "1999        205  qid:2    1:0  2:0   3:0.6310534441444163   \n",
       "\n",
       "                           Y                          meta  \n",
       "0       4:0.1937026171868585    #docid=1504;rel=9;g=M;r=B;  \n",
       "1       4:0.7920737675619858  #docid=1371;rel=388;g=F;r=W;  \n",
       "2      4:-1.5228091763218323    #docid=1774;rel=0;g=F;r=W;  \n",
       "3       4:0.4827263530161303  #docid=1799;rel=249;g=M;r=W;  \n",
       "4      4:-1.5740410843902115    #docid=1757;rel=0;g=M;r=B;  \n",
       "...                      ...                           ...  \n",
       "1995    4:-1.816365924219209    #docid=1075;rel=0;g=F;r=B;  \n",
       "1996   4:-0.6379372794003488    #docid=1753;rel=0;g=M;r=W;  \n",
       "1997   4:-1.5304419174187094     #docid=746;rel=0;g=F;r=W;  \n",
       "1998  4:0.028230813698210594    #docid=1619;rel=0;g=M;r=W;  \n",
       "1999    4:0.4031035876746709  #docid=1337;rel=205;g=M;r=W;  \n",
       "\n",
       "[2000 rows x 7 columns]"
      ]
     },
     "execution_count": 4,
     "metadata": {},
     "output_type": "execute_result"
    }
   ],
   "source": [
    "df_test"
   ]
  },
  {
   "cell_type": "code",
   "execution_count": 5,
   "metadata": {
    "ExecuteTime": {
     "end_time": "2024-01-16T17:20:15.796018Z",
     "start_time": "2024-01-16T17:20:15.793490Z"
    },
    "collapsed": false,
    "jupyter": {
     "outputs_hidden": false
    }
   },
   "outputs": [],
   "source": [
    "def preprocess_dataset(df):\n",
    "    df['qid'] = df['qid'].str.replace('qid:', '')\n",
    "    df['gender'] = df['gender'].str.replace('1:', '')\n",
    "    df['race'] = df['race'].str.replace('2:', '')\n",
    "    df['X'] = df['X'].str.replace('3:', '')\n",
    "    df['Y'] = df['Y'].str.replace('4:', '')\n",
    "    df = df.astype({'gender': int, 'race': int, 'X': float, 'Y': float})\n",
    "    return df\n",
    "\n",
    "df_train = preprocess_dataset(df_train)\n",
    "df_test = preprocess_dataset(df_test)"
   ]
  },
  {
   "cell_type": "code",
   "execution_count": 6,
   "metadata": {
    "ExecuteTime": {
     "end_time": "2024-01-16T17:20:16.328399Z",
     "start_time": "2024-01-16T17:20:16.320608Z"
    },
    "collapsed": false,
    "jupyter": {
     "outputs_hidden": false
    }
   },
   "outputs": [
    {
     "data": {
      "text/plain": [
       "relevance      int64\n",
       "qid           object\n",
       "gender         int64\n",
       "race           int64\n",
       "X            float64\n",
       "Y            float64\n",
       "meta          object\n",
       "dtype: object"
      ]
     },
     "execution_count": 6,
     "metadata": {},
     "output_type": "execute_result"
    }
   ],
   "source": [
    "df_train.dtypes"
   ]
  },
  {
   "cell_type": "code",
   "execution_count": 7,
   "metadata": {
    "ExecuteTime": {
     "end_time": "2024-01-16T17:20:16.780635Z",
     "start_time": "2024-01-16T17:20:16.773834Z"
    },
    "collapsed": false,
    "jupyter": {
     "outputs_hidden": false
    }
   },
   "outputs": [],
   "source": [
    "# train_df = df[:1600].copy()  # first 80%\n",
    "# validation_df = df[-400:].copy()  # remaining 20%\n",
    "\n",
    "train_df = df_train.sample(frac=0.8, random_state=42)\n",
    "validation_df = df_test.sample(frac=0.2, random_state=42)\n",
    "\n",
    "# here I am taking 1st 80000 entries for train but you can use train_test_split\n",
    "qids_train = train_df.groupby(\"qid\")[\"qid\"].count().to_numpy()\n",
    "# Create ranking as the \"relevance\" score\n",
    "X_train = train_df.sort_values('Y', ascending=False)\n",
    "n_rows = X_train.shape[0]\n",
    "X_train['rank'] = range(1, n_rows + 1)\n",
    "# Assign outcome\n",
    "y_train = X_train[\"rank\"]\n",
    "# Drop columns we don't use\n",
    "X_train = X_train.drop([\"Y\", \"relevance\", \"qid\", \"meta\", \"rank\"], axis=1)\n",
    "\n",
    "qids_validation = validation_df.groupby(\"qid\")[\"qid\"].count().to_numpy()\n",
    "# Create ranking as the \"relevance\" score\n",
    "X_validation = validation_df.sort_values('Y', ascending=False)\n",
    "n_rows = X_validation.shape[0]\n",
    "X_validation['rank'] = range(1, n_rows + 1)\n",
    "# Assign outcome\n",
    "y_validation = X_validation[\"rank\"]\n",
    "# Drop columns we don't use\n",
    "X_validation = X_validation.drop([\"Y\", \"relevance\", \"qid\", \"meta\", \"rank\"], axis=1)\n"
   ]
  },
  {
   "cell_type": "code",
   "execution_count": 8,
   "metadata": {
    "ExecuteTime": {
     "end_time": "2024-01-16T17:20:17.246897Z",
     "start_time": "2024-01-16T17:20:17.240233Z"
    },
    "collapsed": false,
    "jupyter": {
     "outputs_hidden": false
    }
   },
   "outputs": [],
   "source": [
    "# # https://github.com/microsoft/LightGBM/issues/2892#issuecomment-596525112\n",
    "# train_df = df[:1600]  # first 80%\n",
    "# validation_df = df[400:]  # remaining 20%\n",
    "# # here I am taking 1st 80000 entries for train but you can use train_test_split\n",
    "# qids_train = train_df.groupby(\"qid\")[\"qid\"].count().to_numpy()\n",
    "# X_train = train_df.drop([\"qid\", \"Y\", \"relevance\", \"meta\"], axis=1)\n",
    "# y_train = train_df[\"relevance\"].copy()\n",
    "# \n",
    "# qids_validation = validation_df.groupby(\"qid\")[\"qid\"].count().to_numpy()\n",
    "# X_validation = validation_df.drop([\"qid\", \"Y\", \"relevance\", \"meta\"], axis=1)\n",
    "# y_validation = validation_df[\"relevance\"].copy()"
   ]
  },
  {
   "cell_type": "code",
   "execution_count": 9,
   "metadata": {},
   "outputs": [],
   "source": [
    "# Joao: added\n",
    "y_train[y_train != 0] = scores_to_rank(y_train[y_train != 0], direction=1)\n",
    "y_validation[y_validation != 0] = scores_to_rank(y_validation[y_validation != 0], direction=1)"
   ]
  },
  {
   "cell_type": "code",
   "execution_count": 10,
   "metadata": {},
   "outputs": [
    {
     "data": {
      "text/html": [
       "<style>#sk-container-id-1 {color: black;}#sk-container-id-1 pre{padding: 0;}#sk-container-id-1 div.sk-toggleable {background-color: white;}#sk-container-id-1 label.sk-toggleable__label {cursor: pointer;display: block;width: 100%;margin-bottom: 0;padding: 0.3em;box-sizing: border-box;text-align: center;}#sk-container-id-1 label.sk-toggleable__label-arrow:before {content: \"▸\";float: left;margin-right: 0.25em;color: #696969;}#sk-container-id-1 label.sk-toggleable__label-arrow:hover:before {color: black;}#sk-container-id-1 div.sk-estimator:hover label.sk-toggleable__label-arrow:before {color: black;}#sk-container-id-1 div.sk-toggleable__content {max-height: 0;max-width: 0;overflow: hidden;text-align: left;background-color: #f0f8ff;}#sk-container-id-1 div.sk-toggleable__content pre {margin: 0.2em;color: black;border-radius: 0.25em;background-color: #f0f8ff;}#sk-container-id-1 input.sk-toggleable__control:checked~div.sk-toggleable__content {max-height: 200px;max-width: 100%;overflow: auto;}#sk-container-id-1 input.sk-toggleable__control:checked~label.sk-toggleable__label-arrow:before {content: \"▾\";}#sk-container-id-1 div.sk-estimator input.sk-toggleable__control:checked~label.sk-toggleable__label {background-color: #d4ebff;}#sk-container-id-1 div.sk-label input.sk-toggleable__control:checked~label.sk-toggleable__label {background-color: #d4ebff;}#sk-container-id-1 input.sk-hidden--visually {border: 0;clip: rect(1px 1px 1px 1px);clip: rect(1px, 1px, 1px, 1px);height: 1px;margin: -1px;overflow: hidden;padding: 0;position: absolute;width: 1px;}#sk-container-id-1 div.sk-estimator {font-family: monospace;background-color: #f0f8ff;border: 1px dotted black;border-radius: 0.25em;box-sizing: border-box;margin-bottom: 0.5em;}#sk-container-id-1 div.sk-estimator:hover {background-color: #d4ebff;}#sk-container-id-1 div.sk-parallel-item::after {content: \"\";width: 100%;border-bottom: 1px solid gray;flex-grow: 1;}#sk-container-id-1 div.sk-label:hover label.sk-toggleable__label {background-color: #d4ebff;}#sk-container-id-1 div.sk-serial::before {content: \"\";position: absolute;border-left: 1px solid gray;box-sizing: border-box;top: 0;bottom: 0;left: 50%;z-index: 0;}#sk-container-id-1 div.sk-serial {display: flex;flex-direction: column;align-items: center;background-color: white;padding-right: 0.2em;padding-left: 0.2em;position: relative;}#sk-container-id-1 div.sk-item {position: relative;z-index: 1;}#sk-container-id-1 div.sk-parallel {display: flex;align-items: stretch;justify-content: center;background-color: white;position: relative;}#sk-container-id-1 div.sk-item::before, #sk-container-id-1 div.sk-parallel-item::before {content: \"\";position: absolute;border-left: 1px solid gray;box-sizing: border-box;top: 0;bottom: 0;left: 50%;z-index: -1;}#sk-container-id-1 div.sk-parallel-item {display: flex;flex-direction: column;z-index: 1;position: relative;background-color: white;}#sk-container-id-1 div.sk-parallel-item:first-child::after {align-self: flex-end;width: 50%;}#sk-container-id-1 div.sk-parallel-item:last-child::after {align-self: flex-start;width: 50%;}#sk-container-id-1 div.sk-parallel-item:only-child::after {width: 0;}#sk-container-id-1 div.sk-dashed-wrapped {border: 1px dashed gray;margin: 0 0.4em 0.5em 0.4em;box-sizing: border-box;padding-bottom: 0.4em;background-color: white;}#sk-container-id-1 div.sk-label label {font-family: monospace;font-weight: bold;display: inline-block;line-height: 1.2em;}#sk-container-id-1 div.sk-label-container {text-align: center;}#sk-container-id-1 div.sk-container {/* jupyter's `normalize.less` sets `[hidden] { display: none; }` but bootstrap.min.css set `[hidden] { display: none !important; }` so we also need the `!important` here to be able to override the default hidden behavior on the sphinx rendered scikit-learn.org. See: https://github.com/scikit-learn/scikit-learn/issues/21755 */display: inline-block !important;position: relative;}#sk-container-id-1 div.sk-text-repr-fallback {display: none;}</style><div id=\"sk-container-id-1\" class=\"sk-top-container\"><div class=\"sk-text-repr-fallback\"><pre>LGBMRanker(label_gain=[0, 1, 2, 3, 4, 5, 6, 7, 8, 9, 10, 11, 12, 13, 14, 15, 16,\n",
       "                       17, 18, 19, 20, 21, 22, 23, 24, 25, 26, 27, 28, 29, ...],\n",
       "           objective=&#x27;lambdarank&#x27;, verbose=-1)</pre><b>In a Jupyter environment, please rerun this cell to show the HTML representation or trust the notebook. <br />On GitHub, the HTML representation is unable to render, please try loading this page with nbviewer.org.</b></div><div class=\"sk-container\" hidden><div class=\"sk-item\"><div class=\"sk-estimator sk-toggleable\"><input class=\"sk-toggleable__control sk-hidden--visually\" id=\"sk-estimator-id-1\" type=\"checkbox\" checked><label for=\"sk-estimator-id-1\" class=\"sk-toggleable__label sk-toggleable__label-arrow\">LGBMRanker</label><div class=\"sk-toggleable__content\"><pre>LGBMRanker(label_gain=[0, 1, 2, 3, 4, 5, 6, 7, 8, 9, 10, 11, 12, 13, 14, 15, 16,\n",
       "                       17, 18, 19, 20, 21, 22, 23, 24, 25, 26, 27, 28, 29, ...],\n",
       "           objective=&#x27;lambdarank&#x27;, verbose=-1)</pre></div></div></div></div></div>"
      ],
      "text/plain": [
       "LGBMRanker(label_gain=[0, 1, 2, 3, 4, 5, 6, 7, 8, 9, 10, 11, 12, 13, 14, 15, 16,\n",
       "                       17, 18, 19, 20, 21, 22, 23, 24, 25, 26, 27, 28, 29, ...],\n",
       "           objective='lambdarank', verbose=-1)"
      ]
     },
     "execution_count": 10,
     "metadata": {},
     "output_type": "execute_result"
    }
   ],
   "source": [
    "model = lgb.LGBMRanker(\n",
    "    objective=\"lambdarank\",\n",
    "    # metric=\"ndcg\",\n",
    "    # min_data_in_leaf=1,\n",
    "    label_gain=list(range(1601)),# np.unique(y_train.values)\n",
    "    verbose=-1\n",
    ")\n",
    "model.fit(\n",
    "    X=X_train,\n",
    "    y=y_train,\n",
    "    group=qids_train,\n",
    "    eval_set=[(X_validation, y_validation)],\n",
    "    eval_group=[qids_validation],\n",
    "    eval_at=10,\n",
    ")"
   ]
  },
  {
   "cell_type": "code",
   "execution_count": 11,
   "metadata": {},
   "outputs": [
    {
     "data": {
      "text/plain": [
       "array([-9.86725643, -9.86725643, -9.86725643, ...,  5.4489572 ,\n",
       "        5.4489572 ,  5.4489572 ])"
      ]
     },
     "execution_count": 11,
     "metadata": {},
     "output_type": "execute_result"
    }
   ],
   "source": [
    "relevance = model.predict(X_train)\n",
    "relevance"
   ]
  },
  {
   "cell_type": "code",
   "execution_count": 12,
   "metadata": {},
   "outputs": [
    {
     "data": {
      "text/plain": [
       "(array([  45,   27,   30, ..., 1599, 1598, 1597]),\n",
       " array([   1,    2,    3, ..., 1598, 1599, 1600]))"
      ]
     },
     "execution_count": 12,
     "metadata": {},
     "output_type": "execute_result"
    }
   ],
   "source": [
    "scores_to_rank(relevance, 1), y_train.values"
   ]
  },
  {
   "cell_type": "markdown",
   "metadata": {},
   "source": [
    "# Model interpretability"
   ]
  },
  {
   "cell_type": "code",
   "execution_count": 13,
   "metadata": {},
   "outputs": [
    {
     "data": {
      "text/html": [
       "<div>\n",
       "<style scoped>\n",
       "    .dataframe tbody tr th:only-of-type {\n",
       "        vertical-align: middle;\n",
       "    }\n",
       "\n",
       "    .dataframe tbody tr th {\n",
       "        vertical-align: top;\n",
       "    }\n",
       "\n",
       "    .dataframe thead th {\n",
       "        text-align: right;\n",
       "    }\n",
       "</style>\n",
       "<table border=\"1\" class=\"dataframe\">\n",
       "  <thead>\n",
       "    <tr style=\"text-align: right;\">\n",
       "      <th></th>\n",
       "      <th>gender</th>\n",
       "      <th>race</th>\n",
       "      <th>X</th>\n",
       "    </tr>\n",
       "  </thead>\n",
       "  <tbody>\n",
       "    <tr>\n",
       "      <th>1816</th>\n",
       "      <td>1</td>\n",
       "      <td>0</td>\n",
       "      <td>1.758635</td>\n",
       "    </tr>\n",
       "    <tr>\n",
       "      <th>1765</th>\n",
       "      <td>1</td>\n",
       "      <td>0</td>\n",
       "      <td>1.540274</td>\n",
       "    </tr>\n",
       "    <tr>\n",
       "      <th>1227</th>\n",
       "      <td>1</td>\n",
       "      <td>0</td>\n",
       "      <td>1.465894</td>\n",
       "    </tr>\n",
       "    <tr>\n",
       "      <th>427</th>\n",
       "      <td>1</td>\n",
       "      <td>1</td>\n",
       "      <td>1.331055</td>\n",
       "    </tr>\n",
       "    <tr>\n",
       "      <th>1100</th>\n",
       "      <td>1</td>\n",
       "      <td>0</td>\n",
       "      <td>1.429315</td>\n",
       "    </tr>\n",
       "    <tr>\n",
       "      <th>...</th>\n",
       "      <td>...</td>\n",
       "      <td>...</td>\n",
       "      <td>...</td>\n",
       "    </tr>\n",
       "    <tr>\n",
       "      <th>988</th>\n",
       "      <td>1</td>\n",
       "      <td>0</td>\n",
       "      <td>-3.624336</td>\n",
       "    </tr>\n",
       "    <tr>\n",
       "      <th>1569</th>\n",
       "      <td>1</td>\n",
       "      <td>0</td>\n",
       "      <td>-3.714049</td>\n",
       "    </tr>\n",
       "    <tr>\n",
       "      <th>922</th>\n",
       "      <td>1</td>\n",
       "      <td>0</td>\n",
       "      <td>-4.074175</td>\n",
       "    </tr>\n",
       "    <tr>\n",
       "      <th>451</th>\n",
       "      <td>1</td>\n",
       "      <td>0</td>\n",
       "      <td>-4.195559</td>\n",
       "    </tr>\n",
       "    <tr>\n",
       "      <th>1040</th>\n",
       "      <td>1</td>\n",
       "      <td>0</td>\n",
       "      <td>-4.208508</td>\n",
       "    </tr>\n",
       "  </tbody>\n",
       "</table>\n",
       "<p>1600 rows × 3 columns</p>\n",
       "</div>"
      ],
      "text/plain": [
       "      gender  race         X\n",
       "1816       1     0  1.758635\n",
       "1765       1     0  1.540274\n",
       "1227       1     0  1.465894\n",
       "427        1     1  1.331055\n",
       "1100       1     0  1.429315\n",
       "...      ...   ...       ...\n",
       "988        1     0 -3.624336\n",
       "1569       1     0 -3.714049\n",
       "922        1     0 -4.074175\n",
       "451        1     0 -4.195559\n",
       "1040       1     0 -4.208508\n",
       "\n",
       "[1600 rows x 3 columns]"
      ]
     },
     "execution_count": 13,
     "metadata": {},
     "output_type": "execute_result"
    }
   ],
   "source": [
    "X_train"
   ]
  },
  {
   "cell_type": "code",
   "execution_count": null,
   "metadata": {},
   "outputs": [
    {
     "data": {
      "application/vnd.jupyter.widget-view+json": {
       "model_id": "9a2cc3780e204f618e6cdfe511ac1612",
       "version_major": 2,
       "version_minor": 0
      },
      "text/plain": [
       "  0%|          | 0/400 [00:00<?, ?it/s]"
      ]
     },
     "metadata": {},
     "output_type": "display_data"
    }
   ],
   "source": [
    "xai = ShaRP(\n",
    "    qoi=\"ranking\",\n",
    "    target_function=model.predict,\n",
    "    measure=\"shapley\",\n",
    "    sample_size=None,\n",
    "    replace=False,\n",
    "    random_state=42,\n",
    "    verbose=1,\n",
    "    n_jobs=31\n",
    ")\n",
    "xai.fit(X_train)\n",
    "\n",
    "shapley_values = pd.DataFrame(\n",
    "    xai.all(X_validation), \n",
    "    columns=X_validation.columns, \n",
    "    index=X_validation.index\n",
    ")\n",
    "shapley_values[\"score\"] = model.predict(X_validation)\n",
    "shapley_values[\"ranking\"] = scores_to_rank(shapley_values[\"score\"])\n",
    "shapley_values.to_csv(f\"r10_test_ranklib_{xai.qoi_.__class__.__name__.lower()}_shapley_values.csv\")"
   ]
  },
  {
   "cell_type": "code",
   "execution_count": 17,
   "metadata": {},
   "outputs": [
    {
     "data": {
      "text/html": [
       "<div>\n",
       "<style scoped>\n",
       "    .dataframe tbody tr th:only-of-type {\n",
       "        vertical-align: middle;\n",
       "    }\n",
       "\n",
       "    .dataframe tbody tr th {\n",
       "        vertical-align: top;\n",
       "    }\n",
       "\n",
       "    .dataframe thead th {\n",
       "        text-align: right;\n",
       "    }\n",
       "</style>\n",
       "<table border=\"1\" class=\"dataframe\">\n",
       "  <thead>\n",
       "    <tr style=\"text-align: right;\">\n",
       "      <th></th>\n",
       "      <th>Rank Bucket</th>\n",
       "      <th>Feature</th>\n",
       "      <th>Contribution</th>\n",
       "    </tr>\n",
       "  </thead>\n",
       "  <tbody>\n",
       "    <tr>\n",
       "      <th>1105</th>\n",
       "      <td>$&lt;$10\\%</td>\n",
       "      <td>X</td>\n",
       "      <td>505.331250</td>\n",
       "    </tr>\n",
       "    <tr>\n",
       "      <th>1122</th>\n",
       "      <td>$&lt;$10\\%</td>\n",
       "      <td>X</td>\n",
       "      <td>497.354167</td>\n",
       "    </tr>\n",
       "    <tr>\n",
       "      <th>1123</th>\n",
       "      <td>$&lt;$10\\%</td>\n",
       "      <td>X</td>\n",
       "      <td>640.111250</td>\n",
       "    </tr>\n",
       "    <tr>\n",
       "      <th>1142</th>\n",
       "      <td>$&lt;$10\\%</td>\n",
       "      <td>X</td>\n",
       "      <td>645.645833</td>\n",
       "    </tr>\n",
       "    <tr>\n",
       "      <th>1143</th>\n",
       "      <td>$&lt;$10\\%</td>\n",
       "      <td>X</td>\n",
       "      <td>615.743750</td>\n",
       "    </tr>\n",
       "    <tr>\n",
       "      <th>...</th>\n",
       "      <td>...</td>\n",
       "      <td>...</td>\n",
       "      <td>...</td>\n",
       "    </tr>\n",
       "    <tr>\n",
       "      <th>671</th>\n",
       "      <td>90-\\n100\\%</td>\n",
       "      <td>race</td>\n",
       "      <td>-74.596667</td>\n",
       "    </tr>\n",
       "    <tr>\n",
       "      <th>677</th>\n",
       "      <td>90-\\n100\\%</td>\n",
       "      <td>race</td>\n",
       "      <td>-79.627917</td>\n",
       "    </tr>\n",
       "    <tr>\n",
       "      <th>689</th>\n",
       "      <td>90-\\n100\\%</td>\n",
       "      <td>race</td>\n",
       "      <td>-79.627917</td>\n",
       "    </tr>\n",
       "    <tr>\n",
       "      <th>700</th>\n",
       "      <td>90-\\n100\\%</td>\n",
       "      <td>race</td>\n",
       "      <td>-68.129167</td>\n",
       "    </tr>\n",
       "    <tr>\n",
       "      <th>701</th>\n",
       "      <td>90-\\n100\\%</td>\n",
       "      <td>race</td>\n",
       "      <td>-74.316250</td>\n",
       "    </tr>\n",
       "  </tbody>\n",
       "</table>\n",
       "<p>1200 rows × 3 columns</p>\n",
       "</div>"
      ],
      "text/plain": [
       "     Rank Bucket Feature  Contribution\n",
       "1105     $<$10\\%       X    505.331250\n",
       "1122     $<$10\\%       X    497.354167\n",
       "1123     $<$10\\%       X    640.111250\n",
       "1142     $<$10\\%       X    645.645833\n",
       "1143     $<$10\\%       X    615.743750\n",
       "...          ...     ...           ...\n",
       "671   90-\\n100\\%    race    -74.596667\n",
       "677   90-\\n100\\%    race    -79.627917\n",
       "689   90-\\n100\\%    race    -79.627917\n",
       "700   90-\\n100\\%    race    -68.129167\n",
       "701   90-\\n100\\%    race    -74.316250\n",
       "\n",
       "[1200 rows x 3 columns]"
      ]
     },
     "execution_count": 17,
     "metadata": {},
     "output_type": "execute_result"
    }
   ],
   "source": [
    "buckets = 10\n",
    "shapley_values = pd.read_csv(\"r10_test_ranklib_rankingqoi_shapley_values.csv\", index_col=\"Unnamed: 0\")\n",
    "\n",
    "shapley_values['rank_bucket'] = [\n",
    "    (\n",
    "        str(math.floor((rank - 1) / (shapley_values.shape[0] / buckets)) * 10) \n",
    "        + \"-\\n\" \n",
    "        + str(math.floor(((rank - 1) / (shapley_values.shape[0] / buckets)) + 1) * 10) \n",
    "        + \"%\" \n",
    "    )\n",
    "    if math.floor((rank - 1) / (shapley_values.shape[0] / buckets)) != 0 \n",
    "    else \"<10%\"\n",
    "    for rank in shapley_values['ranking']\n",
    "]\n",
    "\n",
    "shapley_values[\"Rank Bucket\"] = shapley_values[\"rank_bucket\"].str.replace(\"%\", r\"\\%\").str.replace(\"<\", \"$<$\")\n",
    "shapley_values = (\n",
    "    shapley_values\n",
    "    .drop(columns=[\"rank_bucket\", \"ranking\", \"score\"])\n",
    "    .melt(id_vars=[\"Rank Bucket\"])\n",
    "    .rename(columns={\"variable\": \"Feature\", \"value\": \"Contribution\"})\n",
    ")\n",
    "\n",
    "shapley_values.sort_values([\"Rank Bucket\", \"Feature\"], inplace=True)\n",
    "shapley_values"
   ]
  },
  {
   "cell_type": "code",
   "execution_count": 18,
   "metadata": {},
   "outputs": [],
   "source": [
    "shapley_values.Feature = shapley_values.Feature.apply(lambda x: \"qualification\" if x==\"X\" else x)\n",
    "shapley_values = shapley_values.groupby(\"Rank Bucket\").apply(lambda df: df.sort_values(\"Feature\")).reset_index(drop=True)"
   ]
  },
  {
   "cell_type": "code",
   "execution_count": 19,
   "metadata": {},
   "outputs": [
    {
     "data": {
      "image/png": "[encoded data removed]",
      "text/plain": [
       "<Figure size 1800x600 with 1 Axes>"
      ]
     },
     "metadata": {},
     "output_type": "display_data"
    }
   ],
   "source": [
    "fig, axs = plt.subplots(nrows=1, ncols=1, figsize=(18, 6), sharey='row')\n",
    "graph = sns.boxplot(\n",
    "    x=shapley_values['Rank Bucket'], \n",
    "    y=shapley_values['Contribution'], \n",
    "    hue=shapley_values['Feature'], \n",
    "    palette=\"Set2\"\n",
    ")\n",
    "graph.set_ylabel(\"contribution to rank\")\n",
    "graph.set_xlabel(\"rank stratum\")\n",
    "sns.move_legend(\n",
    "    graph, \"lower center\", bbox_to_anchor=(.5, 1.05), ncol=4, title=None, frameon=False,\n",
    ")\n",
    "\n",
    "plt.savefig(\n",
    "    f\"contrs_topK.pdf\",\n",
    "    format=\"pdf\",\n",
    "    bbox_inches=\"tight\",\n",
    ")\n",
    "plt.show()"
   ]
  },
  {
   "cell_type": "code",
   "execution_count": null,
   "metadata": {},
   "outputs": [],
   "source": []
  }
 ],
 "metadata": {
  "kernelspec": {
   "display_name": "Python 3 (ipykernel)",
   "language": "python",
   "name": "python3"
  },
  "language_info": {
   "codemirror_mode": {
    "name": "ipython",
    "version": 3
   },
   "file_extension": ".py",
   "mimetype": "text/x-python",
   "name": "python",
   "nbconvert_exporter": "python",
   "pygments_lexer": "ipython3",
   "version": "3.12.0"
  }
 },
 "nbformat": 4,
 "nbformat_minor": 4
}
